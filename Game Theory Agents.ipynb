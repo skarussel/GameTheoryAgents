{
 "cells": [
  {
   "cell_type": "markdown",
   "metadata": {},
   "source": [
    "# Game Theory Agents"
   ]
  },
  {
   "cell_type": "code",
   "execution_count": 1,
   "metadata": {
    "colab": {},
    "colab_type": "code",
    "id": "KNfyaZJALv2Z"
   },
   "outputs": [],
   "source": [
    "import numpy as np\n",
    "from game_simulation import simulate_match_up\n",
    "from agent import *\n",
    "from game import get_default_game, Game, get_snowdrift_game"
   ]
  },
  {
   "cell_type": "markdown",
   "metadata": {},
   "source": [
    "## Define an own Agent"
   ]
  },
  {
   "cell_type": "code",
   "execution_count": 2,
   "metadata": {
    "colab": {},
    "colab_type": "code",
    "id": "3ry5jBkeNKDG"
   },
   "outputs": [],
   "source": [
    "class MyAgent(Agent):\n",
    "    \n",
    "    \"\"\" Define your own Agent \"\"\"\n",
    "    def __init__(self, player_id, game):\n",
    "        super().__init__(player_id, game)\n",
    "\n",
    "    def get_action(self, last_action_p1, last_action_p2) -> Action:\n",
    "        if not last_action_p1:\n",
    "            return Action.Cooperate\n",
    "        # start with cooperate\n",
    "        if self.player_id == 1:\n",
    "            if (last_action_p2 == Action.Cooperate):\n",
    "                return Action.Cooperate\n",
    "            # wenn gegner in der letzten runde  cooperate -> cooperate\n",
    "            else:\n",
    "                return Action.Defect\n",
    "            # wenn gegner in der letzten runde defect -> defect\n",
    "        else:\n",
    "            if (last_action_p1==Action.Cooperate):\n",
    "                return Action.Cooperate\n",
    "            else:\n",
    "                return Action.Defect\n",
    "            "
   ]
  },
  {
   "cell_type": "markdown",
   "metadata": {
    "colab_type": "text",
    "id": "Iz3rYWlLNa8S"
   },
   "source": [
    "## Test my agent against a specific bot.\n",
    "\n",
    "\n"
   ]
  },
  {
   "cell_type": "code",
   "execution_count": 3,
   "metadata": {
    "colab": {
     "base_uri": "https://localhost:8080/",
     "height": 256
    },
    "colab_type": "code",
    "executionInfo": {
     "elapsed": 516,
     "status": "ok",
     "timestamp": 1554496611337,
     "user": {
      "displayName": "Alexander Dockhorn",
      "photoUrl": "",
      "userId": "10091456559354423908"
     },
     "user_tz": -120
    },
    "id": "D_mqIHpnNK2R",
    "outputId": "1a886e9c-7aac-4568-cc0b-03c7cdf263af"
   },
   "outputs": [
    {
     "name": "stdout",
     "output_type": "stream",
     "text": [
      "Game Payoff matrixes:\n",
      "player 1 payoff: \n",
      "           Cooperate  Defect\n",
      "Cooperate          2      -1\n",
      "Defect             3       0\n",
      "\n",
      "player 2 payoff: \n",
      "           Cooperate  Defect\n",
      "Cooperate          2       3\n",
      "Defect            -1       0 \n",
      "\n",
      "MyAgent vs. GrudgerAgent -> (200, 200)\n"
     ]
    }
   ],
   "source": [
    "GAMES_PER_MATCHUP = 100\n",
    "game = get_default_game()  # or define your own using Game()  (see game.py for details)\n",
    "print(game, \"\\n\")\n",
    "\n",
    "# evaluate a specific match-up, e.g. MyAgent vs. CopycatAgent  (index 1 vs index 2)\n",
    "agents=[MyAgent, GrudgerAgent]\n",
    "print(f\"{agents[0](1,game)} vs. {agents[1](1,game)} -> {simulate_match_up(agents[0], agents[1], game, GAMES_PER_MATCHUP)}\")   "
   ]
  },
  {
   "cell_type": "markdown",
   "metadata": {
    "colab_type": "text",
    "id": "mUIHJAAiNWwD"
   },
   "source": [
    "## Simulate a small tournament\n",
    "\n",
    "Play out all combinations of agents. The following agents are available:\n",
    "- AllCooperateAgent\n",
    "- AllDefectAgent\n",
    "- CopycatAgent\n",
    "- RandomAgent\n",
    "- GrudgerAgent\n",
    "- DetectiveAgent\n",
    "\n",
    "Add your agent to the list in the first line to test it against all other agents."
   ]
  },
  {
   "cell_type": "code",
   "execution_count": 8,
   "metadata": {
    "colab": {
     "base_uri": "https://localhost:8080/",
     "height": 384
    },
    "colab_type": "code",
    "executionInfo": {
     "elapsed": 847,
     "status": "ok",
     "timestamp": 1554496703587,
     "user": {
      "displayName": "Alexander Dockhorn",
      "photoUrl": "",
      "userId": "10091456559354423908"
     },
     "user_tz": -120
    },
    "id": "RMnMUID9MVWl",
    "outputId": "2cd67d1f-98fa-46df-cb31-846092e5cebe"
   },
   "outputs": [
    {
     "name": "stdout",
     "output_type": "stream",
     "text": [
      "[[[ 200.  200.  -99.  200.  116.  200.  149.]\n",
      "  [ 200.  200.    0.  200.  102.  200.    4.]\n",
      "  [ -96.  300. -100.  -96.  116.  -96.  -92.]\n",
      "  [ 200.  200.  -99.  200.   83.  200.  149.]\n",
      "  [ 114.  251.  -45.  106.  128.  -54.  103.]\n",
      "  [ 200.  200.  -99.  200.  100.  200.  -92.]\n",
      "  [ 152.  298.  -98.  152.   95.  -92.  197.]]\n",
      "\n",
      " [[ 200.  200.  -96.  200.  119.  200.  152.]\n",
      "  [ 200.  200.  300.  200.  249.  200.  298.]\n",
      "  [ -99.    0. -100.  -99.  -46.  -99.  -98.]\n",
      "  [ 200.  200.  -96.  200.   86.  200.  152.]\n",
      "  [ 111.   98.  120.  103.  101.   69.  100.]\n",
      "  [ 200.  200.  -96.  200.  -44.  200.  -92.]\n",
      "  [ 149.    4.  -92.  149.   95.  -92.  197.]]] \n",
      "\n",
      "total points of agent: MyAgent = 1927.0\n",
      "total points of agent: AllCooperateAgent = 1808.0\n",
      "total points of agent: AllDefectAgent = -124.0\n",
      "total points of agent: CopycatAgent = 1886.0\n",
      "total points of agent: RandomAgent = 1163.0\n",
      "total points of agent: GrudgerAgent = 1387.0\n",
      "total points of agent: DetectiveAgent = 1413.0\n"
     ]
    }
   ],
   "source": [
    "agents = [MyAgent, AllCooperateAgent, AllDefectAgent, CopycatAgent, RandomAgent, GrudgerAgent, DetectiveAgent]\n",
    "results = np.zeros((2, len(agents), len(agents)))\n",
    "for id1, player1 in enumerate(agents):\n",
    "    for id2, player2 in enumerate(agents):\n",
    "        results[:, id1, id2] = simulate_match_up(player1, player2, game, GAMES_PER_MATCHUP)\n",
    "print(results, \"\\n\")\n",
    "# results[:, agent1, agent2] contains the results of simulate_match_up(agent1, agent2, game)\n",
    "\n",
    "for id, agent in enumerate(agents):\n",
    "    print(f\"total points of agent: {agent(1,game)} = {sum(results[0,id,:]) + sum(results[1,:,id])}\")"
   ]
  },
  {
   "cell_type": "markdown",
   "metadata": {},
   "source": [
    "## SnowDrift"
   ]
  },
  {
   "cell_type": "code",
   "execution_count": 5,
   "metadata": {},
   "outputs": [
    {
     "name": "stdout",
     "output_type": "stream",
     "text": [
      "[[[ 200.  200.  -99.  200.   98.  200.  149.]\n",
      "  [ 200.  200.    0.  200.   88.  200.    4.]\n",
      "  [ -96.  300. -100.  -96.   84.  -96.  -92.]\n",
      "  [ 200.  200.  -99.  200.  117.  200.  149.]\n",
      "  [  72.  260.  -50.  123.  102.  -46.   92.]\n",
      "  [ 200.  200.  -99.  200.   88.  200.  -92.]\n",
      "  [ 152.  298.  -98.  152.  115.  -92.  197.]]\n",
      "\n",
      " [[ 200.  200.  -96.  200.  101.  200.  152.]\n",
      "  [ 200.  200.  300.  200.  256.  200.  298.]\n",
      "  [ -99.    0. -100.  -99.  -54.  -99.  -98.]\n",
      "  [ 200.  200.  -96.  200.  120.  200.  152.]\n",
      "  [  69.   80.  100.  120.  126.   83.   92.]\n",
      "  [ 200.  200.  -96.  200.  -47.  200.  -92.]\n",
      "  [ 149.    4.  -92.  149.  115.  -92.  197.]]] \n",
      "\n",
      "total points of agent: MyAgent = 1867.0\n",
      "total points of agent: AllCooperateAgent = 1776.0\n",
      "total points of agent: AllDefectAgent = -176.0\n",
      "total points of agent: CopycatAgent = 1937.0\n",
      "total points of agent: RandomAgent = 1170.0\n",
      "total points of agent: GrudgerAgent = 1389.0\n",
      "total points of agent: DetectiveAgent = 1425.0\n"
     ]
    }
   ],
   "source": [
    "game = get_snowdrift_game()\n",
    "agents = [MyAgent, AllCooperateAgent, AllDefectAgent, CopycatAgent, RandomAgent, GrudgerAgent, DetectiveAgent]\n",
    "results = np.zeros((2, len(agents), len(agents)))\n",
    "for id1, player1 in enumerate(agents):\n",
    "    for id2, player2 in enumerate(agents):\n",
    "        results[:, id1, id2] = simulate_match_up(player1, player2, game, GAMES_PER_MATCHUP)\n",
    "print(results, \"\\n\")\n",
    "# results[:, agent1, agent2] contains the results of simulate_match_up(agent1, agent2, game)\n",
    "\n",
    "for id, agent in enumerate(agents):\n",
    "    print(f\"total points of agent: {agent(1,game)} = {sum(results[0,id,:]) + sum(results[1,:,id])}\")"
   ]
  },
  {
   "cell_type": "code",
   "execution_count": null,
   "metadata": {},
   "outputs": [],
   "source": []
  }
 ],
 "metadata": {
  "colab": {
   "collapsed_sections": [],
   "name": "Computational Intelligence in Games 2019 - Exercise Sheet 1.ipynb",
   "provenance": [],
   "version": "0.3.2"
  },
  "kernelspec": {
   "display_name": "Python 3.7.11 ('yemek')",
   "language": "python",
   "name": "python3"
  },
  "language_info": {
   "codemirror_mode": {
    "name": "ipython",
    "version": 3
   },
   "file_extension": ".py",
   "mimetype": "text/x-python",
   "name": "python",
   "nbconvert_exporter": "python",
   "pygments_lexer": "ipython3",
   "version": "3.7.11"
  },
  "vscode": {
   "interpreter": {
    "hash": "601d3472bf3d8ebc82868c787c866fa8d527b63bf3d3ea6294b60474d4c32f30"
   }
  }
 },
 "nbformat": 4,
 "nbformat_minor": 4
}
